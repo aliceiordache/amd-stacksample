{
  "nbformat": 4,
  "nbformat_minor": 0,
  "metadata": {
    "colab": {
      "name": "amd_stacksample.ipynb",
      "provenance": [],
      "collapsed_sections": []
    },
    "kernelspec": {
      "display_name": "Python 3",
      "name": "python3"
    },
    "language_info": {
      "name": "python"
    }
  },
  "cells": [
    {
      "cell_type": "markdown",
      "metadata": {
        "id": "yDTygnEZZCj1"
      },
      "source": [
        "# AMD Project: finding similar items"
      ]
    },
    {
      "cell_type": "code",
      "metadata": {
        "colab": {
          "base_uri": "https://localhost:8080/"
        },
        "id": "-qQ2208aoAsz",
        "outputId": "7b6dfe5d-ce77-4516-8844-aa4e472df0db"
      },
      "source": [
        "# Setup packages\n",
        "!pip install cloudpickle==1.5.0\n",
        "!pip install distributed --upgrade\n",
        "!pip install scikit-learn --upgrade\n",
        "!pip install kaggle --upgrade\n",
        "!pip install dask[complete] --upgrade\n",
        "!pip install dask-ml\n",
        "!pip install nltk\n",
        "!pip install beautifulsoup4\n",
        "!pip install dask-distance # For Jaccard distance\n",
        "!pip install datasketch # For MinHashLSH"
      ],
      "execution_count": 1,
      "outputs": [
        {
          "output_type": "stream",
          "name": "stdout",
          "text": [
            "Collecting cloudpickle==1.5.0\n",
            "  Downloading cloudpickle-1.5.0-py3-none-any.whl (22 kB)\n",
            "Installing collected packages: cloudpickle\n",
            "  Attempting uninstall: cloudpickle\n",
            "    Found existing installation: cloudpickle 1.3.0\n",
            "    Uninstalling cloudpickle-1.3.0:\n",
            "      Successfully uninstalled cloudpickle-1.3.0\n",
            "Successfully installed cloudpickle-1.5.0\n",
            "Requirement already satisfied: distributed in /usr/local/lib/python3.7/dist-packages (1.25.3)\n",
            "Collecting distributed\n",
            "  Downloading distributed-2021.10.0-py3-none-any.whl (791 kB)\n",
            "\u001b[K     |████████████████████████████████| 791 kB 5.9 MB/s \n",
            "\u001b[?25hRequirement already satisfied: tblib>=1.6.0 in /usr/local/lib/python3.7/dist-packages (from distributed) (1.7.0)\n",
            "Requirement already satisfied: msgpack>=0.6.0 in /usr/local/lib/python3.7/dist-packages (from distributed) (1.0.2)\n",
            "Requirement already satisfied: pyyaml in /usr/local/lib/python3.7/dist-packages (from distributed) (3.13)\n",
            "Requirement already satisfied: click>=6.6 in /usr/local/lib/python3.7/dist-packages (from distributed) (7.1.2)\n",
            "Requirement already satisfied: toolz>=0.8.2 in /usr/local/lib/python3.7/dist-packages (from distributed) (0.11.1)\n",
            "Requirement already satisfied: zict>=0.1.3 in /usr/local/lib/python3.7/dist-packages (from distributed) (2.0.0)\n",
            "Collecting dask==2021.10.0\n",
            "  Downloading dask-2021.10.0-py3-none-any.whl (1.0 MB)\n",
            "\u001b[K     |████████████████████████████████| 1.0 MB 37.3 MB/s \n",
            "\u001b[?25hRequirement already satisfied: jinja2 in /usr/local/lib/python3.7/dist-packages (from distributed) (2.11.3)\n",
            "Requirement already satisfied: psutil>=5.0 in /usr/local/lib/python3.7/dist-packages (from distributed) (5.4.8)\n",
            "Requirement already satisfied: tornado>=5 in /usr/local/lib/python3.7/dist-packages (from distributed) (5.1.1)\n",
            "Requirement already satisfied: cloudpickle>=1.5.0 in /usr/local/lib/python3.7/dist-packages (from distributed) (1.5.0)\n",
            "Requirement already satisfied: setuptools in /usr/local/lib/python3.7/dist-packages (from distributed) (57.4.0)\n",
            "Requirement already satisfied: sortedcontainers!=2.0.0,!=2.0.1 in /usr/local/lib/python3.7/dist-packages (from distributed) (2.4.0)\n",
            "Collecting fsspec>=0.6.0\n",
            "  Downloading fsspec-2021.10.1-py3-none-any.whl (125 kB)\n",
            "\u001b[K     |████████████████████████████████| 125 kB 60.2 MB/s \n",
            "\u001b[?25hRequirement already satisfied: packaging>=20.0 in /usr/local/lib/python3.7/dist-packages (from dask==2021.10.0->distributed) (21.0)\n",
            "Collecting partd>=0.3.10\n",
            "  Downloading partd-1.2.0-py3-none-any.whl (19 kB)\n",
            "Requirement already satisfied: pyparsing>=2.0.2 in /usr/local/lib/python3.7/dist-packages (from packaging>=20.0->dask==2021.10.0->distributed) (2.4.7)\n",
            "Collecting locket\n",
            "  Downloading locket-0.2.1-py2.py3-none-any.whl (4.1 kB)\n",
            "Requirement already satisfied: heapdict in /usr/local/lib/python3.7/dist-packages (from zict>=0.1.3->distributed) (1.0.1)\n",
            "Requirement already satisfied: MarkupSafe>=0.23 in /usr/local/lib/python3.7/dist-packages (from jinja2->distributed) (2.0.1)\n",
            "Installing collected packages: locket, partd, fsspec, dask, distributed\n",
            "  Attempting uninstall: dask\n",
            "    Found existing installation: dask 2.12.0\n",
            "    Uninstalling dask-2.12.0:\n",
            "      Successfully uninstalled dask-2.12.0\n",
            "  Attempting uninstall: distributed\n",
            "    Found existing installation: distributed 1.25.3\n",
            "    Uninstalling distributed-1.25.3:\n",
            "      Successfully uninstalled distributed-1.25.3\n",
            "Successfully installed dask-2021.10.0 distributed-2021.10.0 fsspec-2021.10.1 locket-0.2.1 partd-1.2.0\n",
            "Requirement already satisfied: scikit-learn in /usr/local/lib/python3.7/dist-packages (0.22.2.post1)\n",
            "Collecting scikit-learn\n",
            "  Downloading scikit_learn-1.0-cp37-cp37m-manylinux_2_12_x86_64.manylinux2010_x86_64.whl (23.1 MB)\n",
            "\u001b[K     |████████████████████████████████| 23.1 MB 1.7 MB/s \n",
            "\u001b[?25hCollecting threadpoolctl>=2.0.0\n",
            "  Downloading threadpoolctl-3.0.0-py3-none-any.whl (14 kB)\n",
            "Requirement already satisfied: scipy>=1.1.0 in /usr/local/lib/python3.7/dist-packages (from scikit-learn) (1.4.1)\n",
            "Requirement already satisfied: numpy>=1.14.6 in /usr/local/lib/python3.7/dist-packages (from scikit-learn) (1.19.5)\n",
            "Requirement already satisfied: joblib>=0.11 in /usr/local/lib/python3.7/dist-packages (from scikit-learn) (1.0.1)\n",
            "Installing collected packages: threadpoolctl, scikit-learn\n",
            "  Attempting uninstall: scikit-learn\n",
            "    Found existing installation: scikit-learn 0.22.2.post1\n",
            "    Uninstalling scikit-learn-0.22.2.post1:\n",
            "      Successfully uninstalled scikit-learn-0.22.2.post1\n",
            "Successfully installed scikit-learn-1.0 threadpoolctl-3.0.0\n",
            "Requirement already satisfied: kaggle in /usr/local/lib/python3.7/dist-packages (1.5.12)\n",
            "Requirement already satisfied: requests in /usr/local/lib/python3.7/dist-packages (from kaggle) (2.23.0)\n",
            "Requirement already satisfied: python-slugify in /usr/local/lib/python3.7/dist-packages (from kaggle) (5.0.2)\n",
            "Requirement already satisfied: urllib3 in /usr/local/lib/python3.7/dist-packages (from kaggle) (1.24.3)\n",
            "Requirement already satisfied: six>=1.10 in /usr/local/lib/python3.7/dist-packages (from kaggle) (1.15.0)\n",
            "Requirement already satisfied: tqdm in /usr/local/lib/python3.7/dist-packages (from kaggle) (4.62.3)\n",
            "Requirement already satisfied: certifi in /usr/local/lib/python3.7/dist-packages (from kaggle) (2021.5.30)\n",
            "Requirement already satisfied: python-dateutil in /usr/local/lib/python3.7/dist-packages (from kaggle) (2.8.2)\n",
            "Requirement already satisfied: text-unidecode>=1.3 in /usr/local/lib/python3.7/dist-packages (from python-slugify->kaggle) (1.3)\n",
            "Requirement already satisfied: chardet<4,>=3.0.2 in /usr/local/lib/python3.7/dist-packages (from requests->kaggle) (3.0.4)\n",
            "Requirement already satisfied: idna<3,>=2.5 in /usr/local/lib/python3.7/dist-packages (from requests->kaggle) (2.10)\n",
            "Requirement already satisfied: dask[complete] in /usr/local/lib/python3.7/dist-packages (2021.10.0)\n",
            "Requirement already satisfied: cloudpickle>=1.1.1 in /usr/local/lib/python3.7/dist-packages (from dask[complete]) (1.5.0)\n",
            "Requirement already satisfied: toolz>=0.8.2 in /usr/local/lib/python3.7/dist-packages (from dask[complete]) (0.11.1)\n",
            "Requirement already satisfied: partd>=0.3.10 in /usr/local/lib/python3.7/dist-packages (from dask[complete]) (1.2.0)\n",
            "Requirement already satisfied: fsspec>=0.6.0 in /usr/local/lib/python3.7/dist-packages (from dask[complete]) (2021.10.1)\n",
            "Requirement already satisfied: packaging>=20.0 in /usr/local/lib/python3.7/dist-packages (from dask[complete]) (21.0)\n",
            "Requirement already satisfied: pyyaml in /usr/local/lib/python3.7/dist-packages (from dask[complete]) (3.13)\n",
            "Requirement already satisfied: bokeh!=2.0.0,>=1.0.0 in /usr/local/lib/python3.7/dist-packages (from dask[complete]) (2.3.3)\n",
            "Requirement already satisfied: numpy>=1.18 in /usr/local/lib/python3.7/dist-packages (from dask[complete]) (1.19.5)\n",
            "Requirement already satisfied: distributed==2021.10.0 in /usr/local/lib/python3.7/dist-packages (from dask[complete]) (2021.10.0)\n",
            "Requirement already satisfied: jinja2 in /usr/local/lib/python3.7/dist-packages (from dask[complete]) (2.11.3)\n",
            "Requirement already satisfied: pandas>=1.0 in /usr/local/lib/python3.7/dist-packages (from dask[complete]) (1.1.5)\n",
            "Requirement already satisfied: sortedcontainers!=2.0.0,!=2.0.1 in /usr/local/lib/python3.7/dist-packages (from distributed==2021.10.0->dask[complete]) (2.4.0)\n",
            "Requirement already satisfied: tblib>=1.6.0 in /usr/local/lib/python3.7/dist-packages (from distributed==2021.10.0->dask[complete]) (1.7.0)\n",
            "Requirement already satisfied: click>=6.6 in /usr/local/lib/python3.7/dist-packages (from distributed==2021.10.0->dask[complete]) (7.1.2)\n",
            "Requirement already satisfied: setuptools in /usr/local/lib/python3.7/dist-packages (from distributed==2021.10.0->dask[complete]) (57.4.0)\n",
            "Requirement already satisfied: msgpack>=0.6.0 in /usr/local/lib/python3.7/dist-packages (from distributed==2021.10.0->dask[complete]) (1.0.2)\n",
            "Requirement already satisfied: zict>=0.1.3 in /usr/local/lib/python3.7/dist-packages (from distributed==2021.10.0->dask[complete]) (2.0.0)\n",
            "Requirement already satisfied: tornado>=5 in /usr/local/lib/python3.7/dist-packages (from distributed==2021.10.0->dask[complete]) (5.1.1)\n",
            "Requirement already satisfied: psutil>=5.0 in /usr/local/lib/python3.7/dist-packages (from distributed==2021.10.0->dask[complete]) (5.4.8)\n",
            "Requirement already satisfied: python-dateutil>=2.1 in /usr/local/lib/python3.7/dist-packages (from bokeh!=2.0.0,>=1.0.0->dask[complete]) (2.8.2)\n",
            "Requirement already satisfied: pillow>=7.1.0 in /usr/local/lib/python3.7/dist-packages (from bokeh!=2.0.0,>=1.0.0->dask[complete]) (7.1.2)\n",
            "Requirement already satisfied: typing-extensions>=3.7.4 in /usr/local/lib/python3.7/dist-packages (from bokeh!=2.0.0,>=1.0.0->dask[complete]) (3.7.4.3)\n",
            "Requirement already satisfied: MarkupSafe>=0.23 in /usr/local/lib/python3.7/dist-packages (from jinja2->dask[complete]) (2.0.1)\n",
            "Requirement already satisfied: pyparsing>=2.0.2 in /usr/local/lib/python3.7/dist-packages (from packaging>=20.0->dask[complete]) (2.4.7)\n",
            "Requirement already satisfied: pytz>=2017.2 in /usr/local/lib/python3.7/dist-packages (from pandas>=1.0->dask[complete]) (2018.9)\n",
            "Requirement already satisfied: locket in /usr/local/lib/python3.7/dist-packages (from partd>=0.3.10->dask[complete]) (0.2.1)\n",
            "Requirement already satisfied: six>=1.5 in /usr/local/lib/python3.7/dist-packages (from python-dateutil>=2.1->bokeh!=2.0.0,>=1.0.0->dask[complete]) (1.15.0)\n",
            "Requirement already satisfied: heapdict in /usr/local/lib/python3.7/dist-packages (from zict>=0.1.3->distributed==2021.10.0->dask[complete]) (1.0.1)\n",
            "Collecting dask-ml\n",
            "  Downloading dask_ml-2021.10.17-py3-none-any.whl (146 kB)\n",
            "\u001b[K     |████████████████████████████████| 146 kB 5.3 MB/s \n",
            "\u001b[?25hCollecting multipledispatch>=0.4.9\n",
            "  Downloading multipledispatch-0.6.0-py3-none-any.whl (11 kB)\n",
            "Requirement already satisfied: pandas>=0.24.2 in /usr/local/lib/python3.7/dist-packages (from dask-ml) (1.1.5)\n",
            "Requirement already satisfied: scipy in /usr/local/lib/python3.7/dist-packages (from dask-ml) (1.4.1)\n",
            "Requirement already satisfied: dask[array,dataframe]>=2.4.0 in /usr/local/lib/python3.7/dist-packages (from dask-ml) (2021.10.0)\n",
            "Requirement already satisfied: numpy>=1.17.3 in /usr/local/lib/python3.7/dist-packages (from dask-ml) (1.19.5)\n",
            "Requirement already satisfied: packaging in /usr/local/lib/python3.7/dist-packages (from dask-ml) (21.0)\n",
            "Collecting dask-glm>=0.2.0\n",
            "  Downloading dask_glm-0.2.0-py2.py3-none-any.whl (12 kB)\n",
            "Requirement already satisfied: scikit-learn>=1.0.0 in /usr/local/lib/python3.7/dist-packages (from dask-ml) (1.0)\n",
            "Requirement already satisfied: numba>=0.51.0 in /usr/local/lib/python3.7/dist-packages (from dask-ml) (0.51.2)\n",
            "Requirement already satisfied: distributed>=2.4.0 in /usr/local/lib/python3.7/dist-packages (from dask-ml) (2021.10.0)\n",
            "Requirement already satisfied: cloudpickle>=0.2.2 in /usr/local/lib/python3.7/dist-packages (from dask-glm>=0.2.0->dask-ml) (1.5.0)\n",
            "Requirement already satisfied: toolz>=0.8.2 in /usr/local/lib/python3.7/dist-packages (from dask[array,dataframe]>=2.4.0->dask-ml) (0.11.1)\n",
            "Requirement already satisfied: pyyaml in /usr/local/lib/python3.7/dist-packages (from dask[array,dataframe]>=2.4.0->dask-ml) (3.13)\n",
            "Requirement already satisfied: fsspec>=0.6.0 in /usr/local/lib/python3.7/dist-packages (from dask[array,dataframe]>=2.4.0->dask-ml) (2021.10.1)\n",
            "Requirement already satisfied: partd>=0.3.10 in /usr/local/lib/python3.7/dist-packages (from dask[array,dataframe]>=2.4.0->dask-ml) (1.2.0)\n",
            "Requirement already satisfied: sortedcontainers!=2.0.0,!=2.0.1 in /usr/local/lib/python3.7/dist-packages (from distributed>=2.4.0->dask-ml) (2.4.0)\n",
            "Requirement already satisfied: tblib>=1.6.0 in /usr/local/lib/python3.7/dist-packages (from distributed>=2.4.0->dask-ml) (1.7.0)\n",
            "Requirement already satisfied: setuptools in /usr/local/lib/python3.7/dist-packages (from distributed>=2.4.0->dask-ml) (57.4.0)\n",
            "Requirement already satisfied: zict>=0.1.3 in /usr/local/lib/python3.7/dist-packages (from distributed>=2.4.0->dask-ml) (2.0.0)\n",
            "Requirement already satisfied: click>=6.6 in /usr/local/lib/python3.7/dist-packages (from distributed>=2.4.0->dask-ml) (7.1.2)\n",
            "Requirement already satisfied: tornado>=5 in /usr/local/lib/python3.7/dist-packages (from distributed>=2.4.0->dask-ml) (5.1.1)\n",
            "Requirement already satisfied: jinja2 in /usr/local/lib/python3.7/dist-packages (from distributed>=2.4.0->dask-ml) (2.11.3)\n",
            "Requirement already satisfied: msgpack>=0.6.0 in /usr/local/lib/python3.7/dist-packages (from distributed>=2.4.0->dask-ml) (1.0.2)\n",
            "Requirement already satisfied: psutil>=5.0 in /usr/local/lib/python3.7/dist-packages (from distributed>=2.4.0->dask-ml) (5.4.8)\n",
            "Requirement already satisfied: six in /usr/local/lib/python3.7/dist-packages (from multipledispatch>=0.4.9->dask-ml) (1.15.0)\n",
            "Requirement already satisfied: llvmlite<0.35,>=0.34.0.dev0 in /usr/local/lib/python3.7/dist-packages (from numba>=0.51.0->dask-ml) (0.34.0)\n",
            "Requirement already satisfied: pyparsing>=2.0.2 in /usr/local/lib/python3.7/dist-packages (from packaging->dask-ml) (2.4.7)\n",
            "Requirement already satisfied: python-dateutil>=2.7.3 in /usr/local/lib/python3.7/dist-packages (from pandas>=0.24.2->dask-ml) (2.8.2)\n",
            "Requirement already satisfied: pytz>=2017.2 in /usr/local/lib/python3.7/dist-packages (from pandas>=0.24.2->dask-ml) (2018.9)\n",
            "Requirement already satisfied: locket in /usr/local/lib/python3.7/dist-packages (from partd>=0.3.10->dask[array,dataframe]>=2.4.0->dask-ml) (0.2.1)\n",
            "Requirement already satisfied: threadpoolctl>=2.0.0 in /usr/local/lib/python3.7/dist-packages (from scikit-learn>=1.0.0->dask-ml) (3.0.0)\n",
            "Requirement already satisfied: joblib>=0.11 in /usr/local/lib/python3.7/dist-packages (from scikit-learn>=1.0.0->dask-ml) (1.0.1)\n",
            "Requirement already satisfied: heapdict in /usr/local/lib/python3.7/dist-packages (from zict>=0.1.3->distributed>=2.4.0->dask-ml) (1.0.1)\n",
            "Requirement already satisfied: MarkupSafe>=0.23 in /usr/local/lib/python3.7/dist-packages (from jinja2->distributed>=2.4.0->dask-ml) (2.0.1)\n",
            "Installing collected packages: multipledispatch, dask-glm, dask-ml\n",
            "Successfully installed dask-glm-0.2.0 dask-ml-2021.10.17 multipledispatch-0.6.0\n",
            "Requirement already satisfied: nltk in /usr/local/lib/python3.7/dist-packages (3.2.5)\n",
            "Requirement already satisfied: six in /usr/local/lib/python3.7/dist-packages (from nltk) (1.15.0)\n",
            "Requirement already satisfied: beautifulsoup4 in /usr/local/lib/python3.7/dist-packages (4.6.3)\n",
            "Collecting dask-distance\n",
            "  Downloading dask-distance-0.2.0.tar.gz (35 kB)\n",
            "Requirement already satisfied: dask in /usr/local/lib/python3.7/dist-packages (from dask-distance) (2021.10.0)\n",
            "Requirement already satisfied: numpy in /usr/local/lib/python3.7/dist-packages (from dask-distance) (1.19.5)\n",
            "Requirement already satisfied: partd>=0.3.10 in /usr/local/lib/python3.7/dist-packages (from dask->dask-distance) (1.2.0)\n",
            "Requirement already satisfied: packaging>=20.0 in /usr/local/lib/python3.7/dist-packages (from dask->dask-distance) (21.0)\n",
            "Requirement already satisfied: cloudpickle>=1.1.1 in /usr/local/lib/python3.7/dist-packages (from dask->dask-distance) (1.5.0)\n",
            "Requirement already satisfied: toolz>=0.8.2 in /usr/local/lib/python3.7/dist-packages (from dask->dask-distance) (0.11.1)\n",
            "Requirement already satisfied: fsspec>=0.6.0 in /usr/local/lib/python3.7/dist-packages (from dask->dask-distance) (2021.10.1)\n",
            "Requirement already satisfied: pyyaml in /usr/local/lib/python3.7/dist-packages (from dask->dask-distance) (3.13)\n",
            "Requirement already satisfied: pyparsing>=2.0.2 in /usr/local/lib/python3.7/dist-packages (from packaging>=20.0->dask->dask-distance) (2.4.7)\n",
            "Requirement already satisfied: locket in /usr/local/lib/python3.7/dist-packages (from partd>=0.3.10->dask->dask-distance) (0.2.1)\n",
            "Building wheels for collected packages: dask-distance\n",
            "  Building wheel for dask-distance (setup.py) ... \u001b[?25l\u001b[?25hdone\n",
            "  Created wheel for dask-distance: filename=dask_distance-0.2.0-py2.py3-none-any.whl size=9094 sha256=45b7e6354ef8ee4343522f1d8deff3fa996132956c112332c735830c5cb59583\n",
            "  Stored in directory: /root/.cache/pip/wheels/14/4c/ea/f2df406558dc8d17b355fd0265967ca84e8222c24593e5813b\n",
            "Successfully built dask-distance\n",
            "Installing collected packages: dask-distance\n",
            "Successfully installed dask-distance-0.2.0\n",
            "Collecting datasketch\n",
            "  Downloading datasketch-1.5.3-py2.py3-none-any.whl (67 kB)\n",
            "\u001b[K     |████████████████████████████████| 67 kB 3.1 MB/s \n",
            "\u001b[?25hRequirement already satisfied: numpy>=1.11 in /usr/local/lib/python3.7/dist-packages (from datasketch) (1.19.5)\n",
            "Installing collected packages: datasketch\n",
            "Successfully installed datasketch-1.5.3\n"
          ]
        }
      ]
    },
    {
      "cell_type": "code",
      "metadata": {
        "colab": {
          "resources": {
            "http://localhost:8080/nbextensions/google.colab/files.js": {
              "data": "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",
              "ok": true,
              "headers": [
                [
                  "content-type",
                  "application/javascript"
                ]
              ],
              "status": 200,
              "status_text": ""
            }
          },
          "base_uri": "https://localhost:8080/",
          "height": 73
        },
        "id": "JthGhTmu-6Y3",
        "outputId": "e2df7ab1-d3d5-4f9c-c18d-67d5fe219eb5"
      },
      "source": [
        "# Run and upload the kaggle.json containing the API key\n",
        "from google.colab import files\n",
        "uploaded = files.upload()"
      ],
      "execution_count": 1,
      "outputs": [
        {
          "output_type": "display_data",
          "data": {
            "text/html": [
              "\n",
              "     <input type=\"file\" id=\"files-5cfefd31-69be-4531-842f-271aca0e3b31\" name=\"files[]\" multiple disabled\n",
              "        style=\"border:none\" />\n",
              "     <output id=\"result-5cfefd31-69be-4531-842f-271aca0e3b31\">\n",
              "      Upload widget is only available when the cell has been executed in the\n",
              "      current browser session. Please rerun this cell to enable.\n",
              "      </output>\n",
              "      <script src=\"/nbextensions/google.colab/files.js\"></script> "
            ],
            "text/plain": [
              "<IPython.core.display.HTML object>"
            ]
          },
          "metadata": {}
        },
        {
          "output_type": "stream",
          "name": "stdout",
          "text": [
            "Saving kaggle.json to kaggle (1).json\n"
          ]
        }
      ]
    },
    {
      "cell_type": "code",
      "metadata": {
        "colab": {
          "base_uri": "https://localhost:8080/"
        },
        "id": "OzoUc3Od-9R8",
        "outputId": "6fb78dde-20e8-4959-e32a-d45d102436d3"
      },
      "source": [
        "# Setup kaggle credentials\n",
        "!mkdir ~/.kaggle/\n",
        "!cp kaggle.json ~/.kaggle/\n",
        "!chmod 600 ~/.kaggle/kaggle.json\n",
        "\n",
        "# Authenticate and download the dataset\n",
        "from kaggle.api.kaggle_api_extended import KaggleApi\n",
        "kaggle_api = KaggleApi()\n",
        "kaggle_api.authenticate()\n",
        "kaggle_api.dataset_download_files(dataset='stackoverflow/stacksample', path='data/', quiet=False, unzip=True)"
      ],
      "execution_count": 2,
      "outputs": [
        {
          "output_type": "stream",
          "name": "stdout",
          "text": [
            "mkdir: cannot create directory ‘/root/.kaggle/’: File exists\n",
            "Downloading stacksample.zip to data\n"
          ]
        },
        {
          "output_type": "stream",
          "name": "stderr",
          "text": [
            "100%|██████████| 1.11G/1.11G [00:08<00:00, 148MB/s]\n"
          ]
        },
        {
          "output_type": "stream",
          "name": "stdout",
          "text": [
            "\n"
          ]
        }
      ]
    },
    {
      "cell_type": "code",
      "metadata": {
        "id": "-fkcir65XODI"
      },
      "source": [
        "# Load libraries\n",
        "import numpy as np\n",
        "import dask.dataframe as dd\n",
        "from bs4 import BeautifulSoup\n",
        "import re\n",
        "import string\n",
        "import nltk\n",
        "import dask_ml.feature_extraction.text\n",
        "from nltk.corpus import stopwords\n",
        "import dask_distance"
      ],
      "execution_count": 3,
      "outputs": []
    },
    {
      "cell_type": "code",
      "metadata": {
        "colab": {
          "base_uri": "https://localhost:8080/",
          "height": 152
        },
        "id": "yTJdt15wNDQc",
        "outputId": "b483ad45-cb3d-4ab0-ad75-f38f82833f18"
      },
      "source": [
        "# Setup the Dask cluster.\n",
        "# Dask is a library for distributed computation. It is an alternative to Spark.\n",
        "# One of the pros of Dask is that it embodies most of the Pandas functions,\n",
        "# so that you will not be lost if you're familiar manipulating Pandas Series/DataFrames.\n",
        "# Since we are working on Colab, we'll have only one machine, with 2 cores and approx.\n",
        "# 12Gb of RAM. We'll increase this in case we get a nice cluster of workers.\n",
        "from dask.distributed import Client, progress\n",
        "\n",
        "client = Client(n_workers=1, threads_per_worker=2, memory_limit='10GB')\n",
        "client"
      ],
      "execution_count": 4,
      "outputs": [
        {
          "output_type": "execute_result",
          "data": {
            "text/html": [
              "<div>\n",
              "    <div style=\"width: 24px; height: 24px; background-color: #e1e1e1; border: 3px solid #9D9D9D; border-radius: 5px; position: absolute;\"> </div>\n",
              "    <div style=\"margin-left: 48px;\">\n",
              "        <h3 style=\"margin-bottom: 0px;\">Client</h3>\n",
              "        <p style=\"color: #9D9D9D; margin-bottom: 0px;\">Client-34a0f094-341e-11ec-811d-0242ac1c0002</p>\n",
              "        <table style=\"width: 100%; text-align: left;\">\n",
              "\n",
              "        <tr>\n",
              "        \n",
              "            <td style=\"text-align: left;\"><strong>Connection method:</strong> Cluster object</td>\n",
              "            <td style=\"text-align: left;\"><strong>Cluster type:</strong> distributed.LocalCluster</td>\n",
              "        \n",
              "        </tr>\n",
              "\n",
              "        \n",
              "            <tr>\n",
              "                <td style=\"text-align: left;\">\n",
              "                    <strong>Dashboard: </strong> <a href=\"http://127.0.0.1:8787/status\" target=\"_blank\">http://127.0.0.1:8787/status</a>\n",
              "                </td>\n",
              "                <td style=\"text-align: left;\"></td>\n",
              "            </tr>\n",
              "        \n",
              "\n",
              "        </table>\n",
              "\n",
              "        \n",
              "            <details>\n",
              "            <summary style=\"margin-bottom: 20px;\"><h3 style=\"display: inline;\">Cluster Info</h3></summary>\n",
              "            <div class=\"jp-RenderedHTMLCommon jp-RenderedHTML jp-mod-trusted jp-OutputArea-output\">\n",
              "    <div style=\"width: 24px; height: 24px; background-color: #e1e1e1; border: 3px solid #9D9D9D; border-radius: 5px; position: absolute;\">\n",
              "    </div>\n",
              "    <div style=\"margin-left: 48px;\">\n",
              "        <h3 style=\"margin-bottom: 0px; margin-top: 0px;\">LocalCluster</h3>\n",
              "        <p style=\"color: #9D9D9D; margin-bottom: 0px;\">7c3c0d09</p>\n",
              "        <table style=\"width: 100%; text-align: left;\">\n",
              "            <tr>\n",
              "                <td style=\"text-align: left;\">\n",
              "                    <strong>Dashboard:</strong> <a href=\"http://127.0.0.1:8787/status\" target=\"_blank\">http://127.0.0.1:8787/status</a>\n",
              "                </td>\n",
              "                <td style=\"text-align: left;\">\n",
              "                    <strong>Workers:</strong> 1\n",
              "                </td>\n",
              "            </tr>\n",
              "            <tr>\n",
              "                <td style=\"text-align: left;\">\n",
              "                    <strong>Total threads:</strong> 2\n",
              "                </td>\n",
              "                <td style=\"text-align: left;\">\n",
              "                    <strong>Total memory:</strong> 9.31 GiB\n",
              "                </td>\n",
              "            </tr>\n",
              "            \n",
              "            <tr>\n",
              "    <td style=\"text-align: left;\"><strong>Status:</strong> running</td>\n",
              "    <td style=\"text-align: left;\"><strong>Using processes:</strong> True</td>\n",
              "</tr>\n",
              "\n",
              "            \n",
              "        </table>\n",
              "\n",
              "        <details>\n",
              "            <summary style=\"margin-bottom: 20px;\">\n",
              "                <h3 style=\"display: inline;\">Scheduler Info</h3>\n",
              "            </summary>\n",
              "\n",
              "            <div style=\"\">\n",
              "    <div>\n",
              "        <div style=\"width: 24px; height: 24px; background-color: #FFF7E5; border: 3px solid #FF6132; border-radius: 5px; position: absolute;\"> </div>\n",
              "        <div style=\"margin-left: 48px;\">\n",
              "            <h3 style=\"margin-bottom: 0px;\">Scheduler</h3>\n",
              "            <p style=\"color: #9D9D9D; margin-bottom: 0px;\">Scheduler-975047fc-7d30-49e4-b074-b2f9769b69f1</p>\n",
              "            <table style=\"width: 100%; text-align: left;\">\n",
              "                <tr>\n",
              "                    <td style=\"text-align: left;\">\n",
              "                        <strong>Comm:</strong> tcp://127.0.0.1:46527\n",
              "                    </td>\n",
              "                    <td style=\"text-align: left;\">\n",
              "                        <strong>Workers:</strong> 1\n",
              "                    </td>\n",
              "                </tr>\n",
              "                <tr>\n",
              "                    <td style=\"text-align: left;\">\n",
              "                        <strong>Dashboard:</strong> <a href=\"http://127.0.0.1:8787/status\" target=\"_blank\">http://127.0.0.1:8787/status</a>\n",
              "                    </td>\n",
              "                    <td style=\"text-align: left;\">\n",
              "                        <strong>Total threads:</strong> 2\n",
              "                    </td>\n",
              "                </tr>\n",
              "                <tr>\n",
              "                    <td style=\"text-align: left;\">\n",
              "                        <strong>Started:</strong> Just now\n",
              "                    </td>\n",
              "                    <td style=\"text-align: left;\">\n",
              "                        <strong>Total memory:</strong> 9.31 GiB\n",
              "                    </td>\n",
              "                </tr>\n",
              "            </table>\n",
              "        </div>\n",
              "    </div>\n",
              "\n",
              "    <details style=\"margin-left: 48px;\">\n",
              "        <summary style=\"margin-bottom: 20px;\">\n",
              "            <h3 style=\"display: inline;\">Workers</h3>\n",
              "        </summary>\n",
              "\n",
              "        \n",
              "        <div style=\"margin-bottom: 20px;\">\n",
              "            <div style=\"width: 24px; height: 24px; background-color: #DBF5FF; border: 3px solid #4CC9FF; border-radius: 5px; position: absolute;\"> </div>\n",
              "            <div style=\"margin-left: 48px;\">\n",
              "            <details>\n",
              "                <summary>\n",
              "                    <h4 style=\"margin-bottom: 0px; display: inline;\">Worker: 0</h4>\n",
              "                </summary>\n",
              "                <table style=\"width: 100%; text-align: left;\">\n",
              "                    <tr>\n",
              "                        <td style=\"text-align: left;\">\n",
              "                            <strong>Comm: </strong> tcp://127.0.0.1:43389\n",
              "                        </td>\n",
              "                        <td style=\"text-align: left;\">\n",
              "                            <strong>Total threads: </strong> 2\n",
              "                        </td>\n",
              "                    </tr>\n",
              "                    <tr>\n",
              "                        <td style=\"text-align: left;\">\n",
              "                            <strong>Dashboard: </strong> <a href=\"http://127.0.0.1:39715/status\" target=\"_blank\">http://127.0.0.1:39715/status</a>\n",
              "                        </td>\n",
              "                        <td style=\"text-align: left;\">\n",
              "                            <strong>Memory: </strong> 9.31 GiB\n",
              "                        </td>\n",
              "                    </tr>\n",
              "                    <tr>\n",
              "                        <td style=\"text-align: left;\">\n",
              "                            <strong>Nanny: </strong> tcp://127.0.0.1:46755\n",
              "                        </td>\n",
              "                        <td style=\"text-align: left;\"></td>\n",
              "                    </tr>\n",
              "                    <tr>\n",
              "                        <td colspan=\"2\" style=\"text-align: left;\">\n",
              "                            <strong>Local directory: </strong> /content/dask-worker-space/worker-804pud_0\n",
              "                        </td>\n",
              "                    </tr>\n",
              "\n",
              "                    \n",
              "\n",
              "                    \n",
              "\n",
              "                </table>\n",
              "            </details>\n",
              "            </div>\n",
              "        </div>\n",
              "        \n",
              "\n",
              "    </details>\n",
              "</div>\n",
              "\n",
              "        </details>\n",
              "    </div>\n",
              "</div>\n",
              "            </details>\n",
              "        \n",
              "\n",
              "    </div>\n",
              "</div>"
            ],
            "text/plain": [
              "<Client: 'tcp://127.0.0.1:46527' processes=1 threads=2, memory=9.31 GiB>"
            ]
          },
          "metadata": {},
          "execution_count": 4
        }
      ]
    },
    {
      "cell_type": "code",
      "metadata": {
        "id": "YTvxEmAciDOX"
      },
      "source": [
        "# Contains the csv columns' types\n",
        "dtypes = {\"Id\": np.int32, \"Body\": str}"
      ],
      "execution_count": 5,
      "outputs": []
    },
    {
      "cell_type": "code",
      "metadata": {
        "id": "-Yg81cWCDKaZ"
      },
      "source": [
        "# Pre-process the csv file using Dask.\n",
        "# We set the encoding, we only read two columns, 'Id' and 'Body', and we pass their\n",
        "# types explicitly (dtypes variable). This will allow for faster reading.\n",
        "# This step is needed since our csv has some nasty double quotes and multi-line text\n",
        "# that mess up the reading in blocks.\n",
        "# Thus, we will first fix this (still via Dask) and then we will load it 'normally'\n",
        "# using Dask read_csv.\n",
        "df = dd.read_csv(\"data/Questions.csv\", blocksize=None, encoding=\"ISO-8859-1\", usecols=[\"Id\", \"Body\"], dtype=dtypes)"
      ],
      "execution_count": 6,
      "outputs": []
    },
    {
      "cell_type": "code",
      "metadata": {
        "id": "DRj5PXfXWxr3"
      },
      "source": [
        "# We replace the double quotes, new lines and return carriage\n",
        "def optimize_df(df):\n",
        "    df[\"Body\"] = df[\"Body\"].map(lambda x: x.replace('\"', \"'\").replace(\"\\n\", \" \").replace(\"\\r\", \" \"))\n",
        "\n",
        "    return df"
      ],
      "execution_count": 7,
      "outputs": []
    },
    {
      "cell_type": "code",
      "metadata": {
        "id": "0DVSN5zcUnDU"
      },
      "source": [
        "# Map the optimize function to the df and compute the result.\n",
        "# One feature of Dask is that most of its operations are lazy.\n",
        "# This means that, most of the commands that we issue, are not actually run until\n",
        "# we execute .compute(). In fact, they are added to a queue (better: a DAG) and only\n",
        "# when we call the compute function they are executed.\n",
        "df = df.map_partitions(optimize_df, meta=df).compute()"
      ],
      "execution_count": 8,
      "outputs": []
    },
    {
      "cell_type": "code",
      "metadata": {
        "id": "VGNjrQ2TUnmm"
      },
      "source": [
        "# Save the fixed csv.\n",
        "df.to_csv(\"questions_preproc.csv\", index=False, encoding=\"ISO-8859-1\")"
      ],
      "execution_count": 9,
      "outputs": []
    },
    {
      "cell_type": "code",
      "metadata": {
        "id": "cqHJEGYSYs4W"
      },
      "source": [
        "# Reads back the fixed csv, now allowing it to be split in blocks\n",
        "df = dd.read_csv(\"questions_preproc.csv\", encoding=\"ISO-8859-1\", usecols=[\"Id\", \"Body\"], dtype=dtypes)"
      ],
      "execution_count": 10,
      "outputs": []
    },
    {
      "cell_type": "code",
      "metadata": {
        "colab": {
          "base_uri": "https://localhost:8080/",
          "height": 261
        },
        "id": "AyRQCcfVYw0y",
        "outputId": "892c8f37-edaa-4ea7-fbe0-38733d154968"
      },
      "source": [
        "# You see n tasks below, and npartitions above. This is the number of blocks\n",
        "# in which our csv has been divided into.\n",
        "# This mean that *any* computation that we ran on the df, it's run *n* times, one per \n",
        "# each block.\n",
        "df"
      ],
      "execution_count": 11,
      "outputs": [
        {
          "output_type": "execute_result",
          "data": {
            "text/html": [
              "<div><strong>Dask DataFrame Structure:</strong></div>\n",
              "<div>\n",
              "<style scoped>\n",
              "    .dataframe tbody tr th:only-of-type {\n",
              "        vertical-align: middle;\n",
              "    }\n",
              "\n",
              "    .dataframe tbody tr th {\n",
              "        vertical-align: top;\n",
              "    }\n",
              "\n",
              "    .dataframe thead th {\n",
              "        text-align: right;\n",
              "    }\n",
              "</style>\n",
              "<table border=\"1\" class=\"dataframe\">\n",
              "  <thead>\n",
              "    <tr style=\"text-align: right;\">\n",
              "      <th></th>\n",
              "      <th>Id</th>\n",
              "      <th>Body</th>\n",
              "    </tr>\n",
              "    <tr>\n",
              "      <th>npartitions=29</th>\n",
              "      <th></th>\n",
              "      <th></th>\n",
              "    </tr>\n",
              "  </thead>\n",
              "  <tbody>\n",
              "    <tr>\n",
              "      <th></th>\n",
              "      <td>int32</td>\n",
              "      <td>object</td>\n",
              "    </tr>\n",
              "    <tr>\n",
              "      <th></th>\n",
              "      <td>...</td>\n",
              "      <td>...</td>\n",
              "    </tr>\n",
              "    <tr>\n",
              "      <th>...</th>\n",
              "      <td>...</td>\n",
              "      <td>...</td>\n",
              "    </tr>\n",
              "    <tr>\n",
              "      <th></th>\n",
              "      <td>...</td>\n",
              "      <td>...</td>\n",
              "    </tr>\n",
              "    <tr>\n",
              "      <th></th>\n",
              "      <td>...</td>\n",
              "      <td>...</td>\n",
              "    </tr>\n",
              "  </tbody>\n",
              "</table>\n",
              "</div>\n",
              "<div>Dask Name: read-csv, 29 tasks</div>"
            ],
            "text/plain": [
              "Dask DataFrame Structure:\n",
              "                   Id    Body\n",
              "npartitions=29               \n",
              "                int32  object\n",
              "                  ...     ...\n",
              "...               ...     ...\n",
              "                  ...     ...\n",
              "                  ...     ...\n",
              "Dask Name: read-csv, 29 tasks"
            ]
          },
          "metadata": {},
          "execution_count": 11
        }
      ]
    },
    {
      "cell_type": "code",
      "metadata": {
        "colab": {
          "base_uri": "https://localhost:8080/",
          "height": 197
        },
        "id": "1AN8RR6GYx_2",
        "outputId": "d5255cd4-3761-4281-a01f-6c15ef847e05"
      },
      "source": [
        "df.head()"
      ],
      "execution_count": 12,
      "outputs": [
        {
          "output_type": "execute_result",
          "data": {
            "text/html": [
              "<div>\n",
              "<style scoped>\n",
              "    .dataframe tbody tr th:only-of-type {\n",
              "        vertical-align: middle;\n",
              "    }\n",
              "\n",
              "    .dataframe tbody tr th {\n",
              "        vertical-align: top;\n",
              "    }\n",
              "\n",
              "    .dataframe thead th {\n",
              "        text-align: right;\n",
              "    }\n",
              "</style>\n",
              "<table border=\"1\" class=\"dataframe\">\n",
              "  <thead>\n",
              "    <tr style=\"text-align: right;\">\n",
              "      <th></th>\n",
              "      <th>Id</th>\n",
              "      <th>Body</th>\n",
              "    </tr>\n",
              "  </thead>\n",
              "  <tbody>\n",
              "    <tr>\n",
              "      <th>0</th>\n",
              "      <td>80</td>\n",
              "      <td>&lt;p&gt;I've written a database generation script i...</td>\n",
              "    </tr>\n",
              "    <tr>\n",
              "      <th>1</th>\n",
              "      <td>90</td>\n",
              "      <td>&lt;p&gt;Are there any really good tutorials explain...</td>\n",
              "    </tr>\n",
              "    <tr>\n",
              "      <th>2</th>\n",
              "      <td>120</td>\n",
              "      <td>&lt;p&gt;Has anyone got experience creating &lt;strong&gt;...</td>\n",
              "    </tr>\n",
              "    <tr>\n",
              "      <th>3</th>\n",
              "      <td>180</td>\n",
              "      <td>&lt;p&gt;This is something I've pseudo-solved many t...</td>\n",
              "    </tr>\n",
              "    <tr>\n",
              "      <th>4</th>\n",
              "      <td>260</td>\n",
              "      <td>&lt;p&gt;I have a little game written in C#. It uses...</td>\n",
              "    </tr>\n",
              "  </tbody>\n",
              "</table>\n",
              "</div>"
            ],
            "text/plain": [
              "    Id                                               Body\n",
              "0   80  <p>I've written a database generation script i...\n",
              "1   90  <p>Are there any really good tutorials explain...\n",
              "2  120  <p>Has anyone got experience creating <strong>...\n",
              "3  180  <p>This is something I've pseudo-solved many t...\n",
              "4  260  <p>I have a little game written in C#. It uses..."
            ]
          },
          "metadata": {},
          "execution_count": 12
        }
      ]
    },
    {
      "cell_type": "code",
      "metadata": {
        "colab": {
          "base_uri": "https://localhost:8080/"
        },
        "id": "naWJ8ViWQ5U1",
        "outputId": "b16778ee-5ff3-4dee-f7a9-84fcb331a47e"
      },
      "source": [
        "# Let's check if there are missing values\n",
        "missing_values = df.isnull().sum()\n",
        "percent_missing = ((missing_values / df.index.size) * 100).compute()\n",
        "percent_missing"
      ],
      "execution_count": 13,
      "outputs": [
        {
          "output_type": "execute_result",
          "data": {
            "text/plain": [
              "Id      0.0\n",
              "Body    0.0\n",
              "dtype: float64"
            ]
          },
          "metadata": {},
          "execution_count": 13
        }
      ]
    },
    {
      "cell_type": "code",
      "metadata": {
        "colab": {
          "base_uri": "https://localhost:8080/"
        },
        "id": "IzamxhuDxtsf",
        "outputId": "6ea0cf5c-29df-4798-8143-353f266e9eb7"
      },
      "source": [
        "# Load nltk stuff\n",
        "nltk.download(\"stopwords\")\n",
        "nltk.download('punkt')"
      ],
      "execution_count": 14,
      "outputs": [
        {
          "output_type": "stream",
          "name": "stdout",
          "text": [
            "[nltk_data] Downloading package stopwords to /root/nltk_data...\n",
            "[nltk_data]   Unzipping corpora/stopwords.zip.\n",
            "[nltk_data] Downloading package punkt to /root/nltk_data...\n",
            "[nltk_data]   Unzipping tokenizers/punkt.zip.\n"
          ]
        },
        {
          "output_type": "execute_result",
          "data": {
            "text/plain": [
              "True"
            ]
          },
          "metadata": {},
          "execution_count": 14
        }
      ]
    },
    {
      "cell_type": "code",
      "metadata": {
        "id": "pQEr-4-iSeDV"
      },
      "source": [
        "# Text cleaning function\n",
        "stop_w = string.punctuation\n",
        "\n",
        "def clean_str(text):\n",
        "    # The body text is HTML, thus we use BS to clean it\n",
        "    soup = BeautifulSoup(text)\n",
        "    text = soup.text\n",
        "\n",
        "    # We set a mapping of contractions to be expanded\n",
        "    contr_dict = {\n",
        "        \"n't\": \" not\",\n",
        "        \"/TD\": \" \",\n",
        "        \"won\\'t\": \"will not\",\n",
        "        \"can\\'t\": \"can not\",\n",
        "        \"n\\'t\": \" not\",\n",
        "        \"\\'re\": \" are\",\n",
        "        \"\\'s\": \" is\",\n",
        "        \"\\'d\": \" would\",\n",
        "        \"\\'ll\": \" will\",\n",
        "        \"\\'t\": \" not\",\n",
        "        \"\\'ve\": \" have\",\n",
        "        \"\\'m\": \" am\",\n",
        "        \"\\'ve\": \" have \",\n",
        "        \"n't\": \" not \",\n",
        "        \"i'm\": \"i am \",\n",
        "        \"\\'re\": \" are \",\n",
        "        \"\\'d\": \" would \",\n",
        "        \"\\'ll\": \" will \",\n",
        "        \"I'm\" : \"I am\",\n",
        "        \" 've \" : \" have \",\n",
        "        \" 're \" : \" are \",\n",
        "        \" 'll \" : \" will \",\n",
        "    }\n",
        "    \n",
        "    # We use regex to expand them\n",
        "    comp_re = re.compile(\"(%s)\" % \"|\".join(contr_dict.keys()))\n",
        "    txt = comp_re.sub(lambda match: contr_dict[match.group(0)], text)\n",
        "\n",
        "    # Let's tokenize the result\n",
        "    tokens = nltk.word_tokenize(txt)\n",
        "\n",
        "    # Let's clean up punctuation and numbers.\n",
        "    # We will have as result a single string whose words are divided by whitespaces.\n",
        "    final_txt = \" \".join([i for i in tokens if not i in stop_w and len(i) > 1 and str.isalpha(i) ])\n",
        "\n",
        "    return final_txt"
      ],
      "execution_count": 15,
      "outputs": []
    },
    {
      "cell_type": "code",
      "metadata": {
        "id": "uI0w-mpDhd9M"
      },
      "source": [
        "# We sample the df to ~10k rows to allow for faster computation for our project.\n",
        "# However, if we had the computational power and time, having set up our code in Dask\n",
        "# in this way, it would have allowed for a even much bigger sample.\n",
        "df = df.sample(frac=0.01)"
      ],
      "execution_count": 16,
      "outputs": []
    },
    {
      "cell_type": "code",
      "metadata": {
        "id": "Syh6R3E2oZZy"
      },
      "source": [
        "# Let's map the cleaning function to the df.\n",
        "# Creates a new column with the cleaned txt\n",
        "df[\"txt_cleaned\"] = df[\"Body\"].apply(lambda x: clean_str(str(x).lower()), meta=('txt_cleaned', object))"
      ],
      "execution_count": 17,
      "outputs": []
    },
    {
      "cell_type": "code",
      "metadata": {
        "colab": {
          "base_uri": "https://localhost:8080/",
          "height": 406
        },
        "id": "QVmV-_YLn13N",
        "outputId": "54298312-d13c-4c17-ed25-9e9ab0d6fe90"
      },
      "source": [
        "# Compute the result\n",
        "df = df.compute()\n",
        "df"
      ],
      "execution_count": 18,
      "outputs": [
        {
          "output_type": "execute_result",
          "data": {
            "text/html": [
              "<div>\n",
              "<style scoped>\n",
              "    .dataframe tbody tr th:only-of-type {\n",
              "        vertical-align: middle;\n",
              "    }\n",
              "\n",
              "    .dataframe tbody tr th {\n",
              "        vertical-align: top;\n",
              "    }\n",
              "\n",
              "    .dataframe thead th {\n",
              "        text-align: right;\n",
              "    }\n",
              "</style>\n",
              "<table border=\"1\" class=\"dataframe\">\n",
              "  <thead>\n",
              "    <tr style=\"text-align: right;\">\n",
              "      <th></th>\n",
              "      <th>Id</th>\n",
              "      <th>Body</th>\n",
              "      <th>txt_cleaned</th>\n",
              "    </tr>\n",
              "  </thead>\n",
              "  <tbody>\n",
              "    <tr>\n",
              "      <th>8896</th>\n",
              "      <td>581300</td>\n",
              "      <td>&lt;p&gt;I'm wondering if it's possible to create a ...</td>\n",
              "      <td>am wondering if it is possible to create windo...</td>\n",
              "    </tr>\n",
              "    <tr>\n",
              "      <th>4656</th>\n",
              "      <td>332060</td>\n",
              "      <td>&lt;p&gt;I have been working my way through Scott Gu...</td>\n",
              "      <td>have been working my way through scott guthrie...</td>\n",
              "    </tr>\n",
              "    <tr>\n",
              "      <th>66270</th>\n",
              "      <td>2980650</td>\n",
              "      <td>&lt;p&gt;I have a 'mynote' textbox on a slide. If I ...</td>\n",
              "      <td>have amynote textbox on slide if execute sub t...</td>\n",
              "    </tr>\n",
              "    <tr>\n",
              "      <th>27543</th>\n",
              "      <td>1444360</td>\n",
              "      <td>&lt;p&gt;I have to make an image of a dynamic page i...</td>\n",
              "      <td>have to make an image of dynamic page the page...</td>\n",
              "    </tr>\n",
              "    <tr>\n",
              "      <th>61383</th>\n",
              "      <td>2801370</td>\n",
              "      <td>&lt;p&gt;I am trying to display a sphere in PGF/TikZ...</td>\n",
              "      <td>am trying to display sphere in to illustrate t...</td>\n",
              "    </tr>\n",
              "    <tr>\n",
              "      <th>...</th>\n",
              "      <td>...</td>\n",
              "      <td>...</td>\n",
              "      <td>...</td>\n",
              "    </tr>\n",
              "    <tr>\n",
              "      <th>3043</th>\n",
              "      <td>40130310</td>\n",
              "      <td>&lt;p&gt;I am struggling to link to a static library...</td>\n",
              "      <td>am struggling to link to static library create...</td>\n",
              "    </tr>\n",
              "    <tr>\n",
              "      <th>1098</th>\n",
              "      <td>40083960</td>\n",
              "      <td>&lt;p&gt;this is my code of PAN number in jsp page.....</td>\n",
              "      <td>this is my code of pan number in jsp page div ...</td>\n",
              "    </tr>\n",
              "    <tr>\n",
              "      <th>1530</th>\n",
              "      <td>40093910</td>\n",
              "      <td>&lt;p&gt;I'm very new to the asp.net C# environment ...</td>\n",
              "      <td>am very new to the environment and am getting ...</td>\n",
              "    </tr>\n",
              "    <tr>\n",
              "      <th>1045</th>\n",
              "      <td>40082410</td>\n",
              "      <td>&lt;p&gt;When try to mock 'DataServiceContext' and f...</td>\n",
              "      <td>when try to mock would ataservicecontext and f...</td>\n",
              "    </tr>\n",
              "    <tr>\n",
              "      <th>2049</th>\n",
              "      <td>40106020</td>\n",
              "      <td>&lt;p&gt;How can I set sourcemaps for sass files on ...</td>\n",
              "      <td>how can set sourcemaps for sass files on firef...</td>\n",
              "    </tr>\n",
              "  </tbody>\n",
              "</table>\n",
              "<p>12643 rows × 3 columns</p>\n",
              "</div>"
            ],
            "text/plain": [
              "             Id  ...                                        txt_cleaned\n",
              "8896     581300  ...  am wondering if it is possible to create windo...\n",
              "4656     332060  ...  have been working my way through scott guthrie...\n",
              "66270   2980650  ...  have amynote textbox on slide if execute sub t...\n",
              "27543   1444360  ...  have to make an image of dynamic page the page...\n",
              "61383   2801370  ...  am trying to display sphere in to illustrate t...\n",
              "...         ...  ...                                                ...\n",
              "3043   40130310  ...  am struggling to link to static library create...\n",
              "1098   40083960  ...  this is my code of pan number in jsp page div ...\n",
              "1530   40093910  ...  am very new to the environment and am getting ...\n",
              "1045   40082410  ...  when try to mock would ataservicecontext and f...\n",
              "2049   40106020  ...  how can set sourcemaps for sass files on firef...\n",
              "\n",
              "[12643 rows x 3 columns]"
            ]
          },
          "metadata": {},
          "execution_count": 18
        }
      ]
    },
    {
      "cell_type": "code",
      "metadata": {
        "colab": {
          "base_uri": "https://localhost:8080/"
        },
        "id": "M9QHNX-WiP-5",
        "outputId": "19cdf98a-eefa-4b55-9c25-6eb5bb4b0bea"
      },
      "source": [
        "from dask_ml.feature_extraction.text import CountVectorizer\n",
        "import dask.bag as db\n",
        "\n",
        "# Bag of words\n",
        "vectorizer = CountVectorizer()\n",
        "corpus = db.from_sequence(list(df[\"txt_cleaned\"].values))\n",
        "X = vectorizer.fit_transform(corpus)\n",
        "X.compute()"
      ],
      "execution_count": 19,
      "outputs": [
        {
          "output_type": "execute_result",
          "data": {
            "text/plain": [
              "<12643x51247 sparse matrix of type '<class 'numpy.int64'>'\n",
              "\twith 846503 stored elements in Compressed Sparse Row format>"
            ]
          },
          "metadata": {},
          "execution_count": 19
        }
      ]
    },
    {
      "cell_type": "code",
      "metadata": {
        "id": "9dkPQw_Sia15",
        "outputId": "f5209348-6b31-42e3-c48e-e250a32259df",
        "colab": {
          "base_uri": "https://localhost:8080/"
        }
      },
      "source": [
        "entity_names = vectorizer.get_feature_names()"
      ],
      "execution_count": 21,
      "outputs": [
        {
          "output_type": "stream",
          "name": "stderr",
          "text": [
            "/usr/local/lib/python3.7/dist-packages/sklearn/utils/deprecation.py:87: FutureWarning: Function get_feature_names is deprecated; get_feature_names is deprecated in 1.0 and will be removed in 1.2. Please use get_feature_names_out instead.\n",
            "  warnings.warn(msg, category=FutureWarning)\n"
          ]
        }
      ]
    },
    {
      "cell_type": "code",
      "metadata": {
        "id": "SYm9TJUxyMOz"
      },
      "source": [
        "# Let's compute the MinHashLSH Forest.\n",
        "# MinHashLSH forest computes the top-k results of an operation. This is slightly\n",
        "# different from the 'original' MinHashLSH.\n",
        "# For more info:\n",
        "# http://infolab.stanford.edu/~ullman/mmds/ch3.pdf\n",
        "# https://github.com/ekzhu/datasketch/issues/42#issuecomment-350074304\n",
        "# http://ekzhu.com/datasketch/lshforest.html\n",
        "# https://towardsdatascience.com/understanding-locality-sensitive-hashing-49f6d1f6134\n",
        "\n",
        "from datasketch import MinHash, MinHashLSH, MinHashLSHForest\n",
        "\n",
        "forest = MinHashLSHForest(num_perm=128)\n",
        "lsh = MinHashLSH(threshold=0.5, num_perm=128)\n",
        "\n",
        "def get_str_lsh(norm_title, num_perms=128):\n",
        "    s_set = set(norm_title.split(' '))\n",
        "    mh = MinHash(num_perm=num_perms)\n",
        "\n",
        "    for d in s_set:\n",
        "        mh.update(d.encode('utf8'))\n",
        "\n",
        "    return mh\n",
        "\n",
        "# Create the index\n",
        "for i, title in enumerate(df[\"txt_cleaned\"].values):\n",
        "    forest.add(i, get_str_lsh(title))\n",
        "    lsh.insert(i, get_str_lsh(title))\n",
        "\n",
        "# Index, so all keys will be searchable\n",
        "forest.index()\n",
        "\n",
        "def get_results_lsh(x, top_n=10): \n",
        "    search_q_hash = get_str_lsh(x)\n",
        "    res = forest.query(search_q_hash, top_n)\n",
        "\n",
        "    # We use the exact Jaccard similarity here.\n",
        "    # You can replace it with the approx. MinHash if you'd like by changing\n",
        "    # search_q_hash.jaccard to search_q_hash.query (I guess...)\n",
        "    return (\n",
        "        [df[\"txt_cleaned\"].values[i] for i in res],\n",
        "        [search_q_hash.jaccard(get_str_lsh(df[\"txt_cleaned\"].values[i])) for i in res]\n",
        "    )"
      ],
      "execution_count": 22,
      "outputs": []
    },
    {
      "cell_type": "code",
      "metadata": {
        "id": "Ea2wbRFeyW7_"
      },
      "source": [
        "# Let's now apply and compute the MinHashLSH\n",
        "df[\"lsh_result\"] = df[\"txt_cleaned\"].apply(lambda x: get_results_lsh(x, 10))"
      ],
      "execution_count": 23,
      "outputs": []
    },
    {
      "cell_type": "code",
      "metadata": {
        "colab": {
          "base_uri": "https://localhost:8080/"
        },
        "id": "Nkr5h1uqzMR4",
        "outputId": "6cf801c9-bd1c-4a4b-dde1-33e996274934"
      },
      "source": [
        "df[\"lsh_result\"]"
      ],
      "execution_count": 24,
      "outputs": [
        {
          "output_type": "execute_result",
          "data": {
            "text/plain": [
              "8896     ([am wondering if it is possible to create win...\n",
              "4656     ([this is hard question for me to describe but...\n",
              "66270    ([have three vectors of data first column is a...\n",
              "27543    ([have to make an image of dynamic page the pa...\n",
              "61383    ([please help me to understand what must to do...\n",
              "                               ...                        \n",
              "3043     ([am creating function in angular that want to...\n",
              "1098     ([am trying to setup an application with sprin...\n",
              "1530     ([am very new to the environment and am gettin...\n",
              "1045     ([when try to mock would ataservicecontext and...\n",
              "2049     ([how can set sourcemaps for sass files on fir...\n",
              "Name: lsh_result, Length: 12643, dtype: object"
            ]
          },
          "metadata": {},
          "execution_count": 24
        }
      ]
    },
    {
      "cell_type": "code",
      "metadata": {
        "colab": {
          "base_uri": "https://localhost:8080/"
        },
        "id": "9NM5ieyIzRi4",
        "outputId": "63225c18-db78-4722-d3bd-57234211f2ba"
      },
      "source": [
        "# Each row will have 10 results, which are the most similar according to our algo.\n",
        "# Not surprisingly (and this is also proof that the algo may be working correctly),\n",
        "# the very first result is the row we used as input, since each text is of course to itself.\n",
        "# Performance may not be the best, you can also suggest to have a look at\n",
        "# http://ekzhu.com/datasketch/lshforest.html#tips-for-improving-accuracy\n",
        "# for tips on improving accuracy.\n",
        "df[\"lsh_result\"].iloc[0]"
      ],
      "execution_count": 25,
      "outputs": [
        {
          "output_type": "execute_result",
          "data": {
            "text/plain": [
              "(['am wondering if it is possible to create windows service in and then create another process that connects to the service and passes parameters modifies and views its datastructures and connected database etc believe that in vista this is only possible with the use of sockets and not with servicecontroller class can anyone direct me to examples or tutorials on how to do this please thanks',\n",
              "  'if domain ad user account is hidden and expired is there way to change the password not reset in the code have currently is using and is essentially something like using var context principalcontext server container var directoryuser context username oldpassword newpassword this works ok for users that the application service account can find but some users are in ous that the application service account does not have read permissions to and hence this fails with null user thought would change it so that the principalcontext is established with the username and password of the user themselves since they will have permissions to find themselves but often the account is expired by the time they come to change their password and so the findbyidentity call fails as invalid credentials since the account is it is kind of where can not find the user unless search as the user but can not search as the user since they are expired and can only unexpire them by getting them to change their password if they have access to workstation they can change their password using the windows login controls but how to achieve this same level of functionality in am hoping for solution that does not involve service account with to the hidden ous that would be difficult to achieve for various organization reasons',\n",
              "  'have product terminal emulator which provides dll that can be linked to program to basically automate the driving of this product send keystrokes detect what is on the screen and so forth want to drive it from scripting language am comfortable with python and slightly less so with perl so that we do not have to compile and send out executables to our customers whenever there is problem found we also want the customers to be able to write their own scripts using ours as baselines and they will not entertain the idea of writing and compiling code what is good way of getting to interface to windows dll my first thought was to write server program and have python script communicate with it via tcp but there is got to be an easier solution',\n",
              "  'am adding context menu item to the windows registry so when click on file can call my application and have that file be set to my application as an arg but how can do this with to have multiple files be send to my application all the files have selected right now have the command as but this seems to call in each file separately what is the command to throw in all the files that have selected',\n",
              "  'my project is php web application this applies to my test server local not production server am also the solo developer on this project however that may change in the very far future also all my source code is committed to repository and the production server gets the source code from the repository do my development in windows while my test server runs on ubuntu perhaps you can also recommend me another distro that is easy to use and can serve as good web server need an elegant way to interface between the two environments currently do my coding in windows and then ftp the changed files to the test server however this is quite cumbersome and tedious since have to manually go to my ftp client each time suggest me something elegant please perhaps ftp sync or openvpn where the root www directory on test server is acts like folder in windows thanks for your awesome time',\n",
              "  'am developing new windows phone application which is using core functionality of my mobile application it is native app and more comprehensive version of it my application heavily using class library which has my domain objects can not reference class library to wp apps am creating portable class library and it will have same domain objects as my class library since wan na keep it dry am thinking move my classes to whichever is compatible to portable class library and use this one shared both on web applications and windows store apps will be there any compatibility issues with mvc wpf wcf etc is it good move to migrate from class library to portable class library for this reason is there any good way to move domain classes other than',\n",
              "  'am newbie to programming am trying to transfer an mvc project from one pc with sql server to another pc with sql server all is well except the fact that the pc is not able to load the databases that am using for this project one is called defaultconnection was scaffolded by visual studio mvc template on the first login and the other is called carrentaldbentities was created in sql server and added to the project both of witch am able to update but not use the error that am getting is or error occurred while establishing connection to sql server the server was not found or was not accessible verify that the instance name is correct and that sql server is configured to allow remote connections provider sql network interfaces error local database runtime error occurred unexpected error occurred inside localdb instance api method call see the windows application event log for error details windows log sais windows api call getsvcbinpathbyinstname returned error code windows system error message is the system can not find the file specified reported at line when try to refresh the databases in the server explorer am getting another error mvc error would be more than happy to hear some advice because tried fixing this for days with no luck at all',\n",
              "  'need some advice for getting basic express app to work on my site the site is hosted on windows hosting can run code on my localhost and it works but as soon as move it to the arvixe site it is giving me error file or directory not found at the root of my site have folder called that has express in it also have file and file this is the file configuration handlers add defaultdocument notrue files add this is the file var express require var app express function request response nothis would be some html function request response name the only difference between the localhost version and this version is there is file and in changed to use port instead of local port number the only files am accessing should be and express and they are both there am very new to and express am missing something about how these files communicate between one another or what is happening to stop my site from running is there simple way could debug things like this in the future',\n",
              "  'have set of record types like this type course id int title string instructor string duration string startdate string iconurl string url string lecturesections lecturesection list and lecturesection title string completed bool lectures lecture list and lecture title string videourl string and at some point call sprintf course where course is an instance of the course record on regular project this works fine but on windows phone silverlight project am using daniel mohl is templates get this error late bound operations can not be performed on types or methods for which containsgenericparameters is true the problem seems to be the lists does anyone know of any way around this problem',\n",
              "  'this is not duplicate question have userform which remains on top of all the windows all the time want to access source of an already open webpage can not use findwindow function as will have multiple browser window open with the exact same title am left with only one option switch to the required browser window and as the userform is on top click some button to switch to the last active window after that will be using getforegroundwindow function how can switch to the last active window without using findwindow or sendkeys tab this does not work have searched whole internet but could not get an answer minimizing the form and getting the handle is working but while checking all open windows getting error on for loop line as no more threads can be created in the system function getiebyhwnd myhwnd as long as internetexplorer dim tempwindow as variant dim objshellwindows as new set getiebyhwnd nothing on error goto errhandler for each tempwindow in objshellwindows if instr then if myhwnd then set getiebyhwnd tempwindow exit for end if end if next tempwindow exit function'],\n",
              " [1.0,\n",
              "  0.1640625,\n",
              "  0.171875,\n",
              "  0.2265625,\n",
              "  0.21875,\n",
              "  0.1875,\n",
              "  0.15625,\n",
              "  0.1484375,\n",
              "  0.140625,\n",
              "  0.203125])"
            ]
          },
          "metadata": {},
          "execution_count": 25
        }
      ]
    },
    {
      "cell_type": "code",
      "metadata": {
        "id": "Wh9FJCH3NZ-v",
        "colab": {
          "base_uri": "https://localhost:8080/",
          "height": 53
        },
        "outputId": "0a6422c5-5f78-465c-a876-b76e9b238811"
      },
      "source": [
        "df[\"txt_cleaned\"].iloc[0]"
      ],
      "execution_count": 26,
      "outputs": [
        {
          "output_type": "execute_result",
          "data": {
            "application/vnd.google.colaboratory.intrinsic+json": {
              "type": "string"
            },
            "text/plain": [
              "'am wondering if it is possible to create windows service in and then create another process that connects to the service and passes parameters modifies and views its datastructures and connected database etc believe that in vista this is only possible with the use of sockets and not with servicecontroller class can anyone direct me to examples or tutorials on how to do this please thanks'"
            ]
          },
          "metadata": {},
          "execution_count": 26
        }
      ]
    },
    {
      "cell_type": "code",
      "metadata": {
        "id": "YoZxQqjIXa4z"
      },
      "source": [
        "# Scalability discussion: have a look at the prof. notes for the time and space complexity\n",
        "# (and also here: https://towardsdatascience.com/understanding-locality-sensitive-hashing-49f6d1f6134).\n",
        "# Regarding scalability of the code implementation, Dask provides it, since it is a distributed framework. \n",
        "# This means that, by increasing the dataset size (ie. number of rows of our csv),\n",
        "# we will just need to add more machines to our cluster and register them as workers at\n",
        "# the beginning of this code, when we initialized the Dask cluster: Dask will\n",
        "# automatically handle the split of the computation among the workers.\n",
        "# For more benchmarkings on accuracy and/or scalability, just run this\n",
        "# https://github.com/ekzhu/datasketch/blob/master/benchmark/sketches/minhash_benchmark.py\n",
        "# or these\n",
        "# https://github.com/ekzhu/datasketch/blob/master/benchmark/sketches/cardinality_benchmark.py\n",
        "# https://github.com/ekzhu/datasketch/blob/master/benchmark/indexes/jaccard/lshforest.py"
      ],
      "execution_count": 27,
      "outputs": []
    },
    {
      "cell_type": "code",
      "metadata": {
        "id": "jQY44ZHoXnwH"
      },
      "source": [
        ""
      ],
      "execution_count": null,
      "outputs": []
    }
  ]
}